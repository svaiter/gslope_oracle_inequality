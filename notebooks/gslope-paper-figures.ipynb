{
 "cells": [
  {
   "cell_type": "markdown",
   "metadata": {},
   "source": [
    "# Numerical experiments for *A sharp oracle inequality for Graph-Slope* by P. Bellec, J. Salmon and S. Vaiter"
   ]
  },
  {
   "cell_type": "markdown",
   "metadata": {},
   "source": [
    "This Python notebook contains the code necessary to reproduce all the figures included in the paper *A sharp oracle inequality for Graph-Slope* by P. Bellec, J. Salmon and S. Vaiter."
   ]
  },
  {
   "cell_type": "markdown",
   "metadata": {},
   "source": [
    "## Setup"
   ]
  },
  {
   "cell_type": "markdown",
   "metadata": {},
   "source": [
    "Imports and RNG setup"
   ]
  },
  {
   "cell_type": "code",
   "execution_count": null,
   "metadata": {},
   "outputs": [],
   "source": [
    "%matplotlib inline\n",
    "%load_ext autoreload\n",
    "%autoreload 2\n",
    "\n",
    "import pickle\n",
    "\n",
    "import numpy as np\n",
    "import matplotlib.pyplot as plt\n",
    "import networkx as nx\n",
    "import seaborn as sns\n",
    "import osmnx as ox\n",
    "from sklearn.metrics import mean_squared_error, precision_score\n",
    "from scipy.linalg import pinv2\n",
    "\n",
    "from graphslope import GraphSlope\n",
    "from graphslope.utils import FDR, TDR\n",
    "\n",
    "np.random.seed(44)\n",
    "recompute = True"
   ]
  },
  {
   "cell_type": "markdown",
   "metadata": {},
   "source": [
    "Figure style"
   ]
  },
  {
   "cell_type": "code",
   "execution_count": null,
   "metadata": {},
   "outputs": [],
   "source": [
    "sns.set_context('paper', font_scale=1.4)\n",
    "sns.set_style(\"ticks\")\n",
    "sns.set_palette(\"colorblind\", 8)"
   ]
  },
  {
   "cell_type": "markdown",
   "metadata": {},
   "source": [
    "Common funs"
   ]
  },
  {
   "cell_type": "code",
   "execution_count": null,
   "metadata": {},
   "outputs": [],
   "source": [
    "def generate_random_sparse(D, n0):\n",
    "    (n,p) = D.shape\n",
    "    DTJ = np.array(D.T[np.random.permutation(p)[:p-n0],:].todense())\n",
    "    gen = np.random.randn(n)\n",
    "    U,S,Vt = np.linalg.svd(DTJ,full_matrices=False)\n",
    "    idx_to_keep = S>1e-7\n",
    "    x0 = gen - Vt[idx_to_keep,:].T.dot(Vt[idx_to_keep,:].dot(gen))\n",
    "    return x0"
   ]
  },
  {
   "cell_type": "code",
   "execution_count": null,
   "metadata": {},
   "outputs": [],
   "source": [
    "def run_xp(D, estimators, number_of_simulations=10, coeff=1.0):\n",
    "    (n,p) = D.shape\n",
    "    \n",
    "    num_sparsities = np.zeros((p,1))\n",
    "    MSEs = np.zeros((p, len(estimators)))\n",
    "    FDRs = np.zeros((p, len(estimators)))\n",
    "    TDRs = np.zeros((p, len(estimators)))\n",
    "\n",
    "    for n0 in range(0,p):\n",
    "        for j in range(number_of_simulations):\n",
    "            x0 = generate_random_sparse(D, n0)\n",
    "            x0 = coeff * sigma * x0\n",
    "            y = x0 + sigma * np.random.randn(n)\n",
    "\n",
    "            sparsity = int(np.sum(np.abs(D.T.dot(x0)) > 1e-4))\n",
    "            num_sparsities[sparsity, 0] += 1\n",
    "\n",
    "            for est_idx, est in enumerate(estimators):\n",
    "                est.fit(y)\n",
    "                xres = est.coef_\n",
    "                MSEs[sparsity, est_idx] += mean_squared_error(xres, x0)\n",
    "                FDRs[sparsity, est_idx] += FDR(D, xres, x0)\n",
    "                TDRs[sparsity, est_idx] += TDR(D, xres, x0)\n",
    "\n",
    "    MSEs /= num_sparsities\n",
    "    FDRs /= num_sparsities\n",
    "    TDRs /= num_sparsities\n",
    "    \n",
    "    return (MSEs, FDRs, TDRs)"
   ]
  },
  {
   "cell_type": "code",
   "execution_count": null,
   "metadata": {},
   "outputs": [],
   "source": [
    "def rho(D):\n",
    "    penrose_DT = pinv2(D.T.todense())\n",
    "    return np.max(np.linalg.norm(penrose_DT,axis=1)) / np.sqrt(D.shape[0])"
   ]
  },
  {
   "cell_type": "markdown",
   "metadata": {
    "collapsed": true
   },
   "source": [
    "## Synthetic experiments for Caveman-like graph"
   ]
  },
  {
   "cell_type": "markdown",
   "metadata": {},
   "source": [
    "Caveman graph generation"
   ]
  },
  {
   "cell_type": "code",
   "execution_count": null,
   "metadata": {},
   "outputs": [],
   "source": [
    "nodes_by_component = 10\n",
    "num_of_components = 4\n",
    "probability_of_connect = 0.1\n",
    "\n",
    "G = nx.relaxed_caveman_graph(num_of_components, nodes_by_component, probability_of_connect, seed=4)\n",
    "D = nx.incidence_matrix(G, oriented=True)\n",
    "(n, p) = D.shape\n",
    "\n",
    "print((n,p))"
   ]
  },
  {
   "cell_type": "code",
   "execution_count": null,
   "metadata": {},
   "outputs": [],
   "source": [
    "def nth_root_unit(n):\n",
    "    t = np.arange(0,2.0*np.pi,2.0*np.pi/n,dtype=np.float32)\n",
    "    return np.array([np.cos(t),np.sin(t)]).T\n",
    "\n",
    "relative_distance = 2.0\n",
    "nodes_relative_coordinates = nth_root_unit(nodes_by_component)\n",
    "center_of_components = nth_root_unit(num_of_components)\n",
    "\n",
    "pos = np.concatenate(list(map(lambda row: nodes_relative_coordinates + relative_distance*row, center_of_components)))\n",
    "ec = ['k' if u//nodes_by_component == v//nodes_by_component else 'b' for u,v in G.edges()]\n",
    "\n",
    "nx.draw_networkx(G,pos=pos,edge_color=ec,with_labels=False,node_size=100)\n",
    "plt.axis('equal')\n",
    "plt.axis('off')\n",
    "\n",
    "plt.savefig(\"images/caveman_graph.pdf\")"
   ]
  },
  {
   "cell_type": "code",
   "execution_count": null,
   "metadata": {},
   "outputs": [],
   "source": [
    "sigma = 0.2\n",
    "weights_slope = sigma * rho(D) * np.sqrt(2 * np.log(p/np.arange(1,p+1))*(n))\n",
    "weights_lasso = sigma * rho(D) * np.sqrt(2 * np.log(p)*(n)) * np.ones(p)\n",
    "\n",
    "from scipy.linalg import pinv2\n",
    "penrose_D = pinv2(D.T.todense())\n",
    "weights_slope_pen = np.percentile( -np.sort(-np.abs(penrose_D.T.dot(np.random.normal(size=(n,100000)))), axis=0 ), 99, axis=1)\n",
    "weights_slope_pen *= rho(D) * sigma * np.sqrt(2 * np.log(p)*(n)) / weights_slope_pen[0]"
   ]
  },
  {
   "cell_type": "code",
   "execution_count": null,
   "metadata": {},
   "outputs": [],
   "source": [
    "plt.plot(weights_lasso, label=\"Graph-Lasso\")\n",
    "plt.plot(weights_slope, label=\"Graph-Slope\")\n",
    "plt.plot(weights_slope_pen, label=\"Graph-Slope (MC)\")\n",
    "plt.legend()\n",
    "\n",
    "plt.savefig(\"images/caveman_weight.pdf\")"
   ]
  },
  {
   "cell_type": "code",
   "execution_count": null,
   "metadata": {},
   "outputs": [],
   "source": [
    "glasso_reg = GraphSlope(incidence=D, lambdas=weights_lasso, max_iter=30000, tol=1e-5)\n",
    "gslope_reg = GraphSlope(incidence=D, lambdas=weights_slope, max_iter=30000, tol=1e-5)\n",
    "gslope_pen_reg = GraphSlope(incidence=D, lambdas=weights_slope_pen, max_iter=30000, tol=1e-5)\n",
    "estimators = [glasso_reg, gslope_reg, gslope_pen_reg]\n",
    "\n",
    "if recompute:\n",
    "    MSEs, FDRs, TDRs = run_xp(D, estimators, number_of_simulations=1000, coeff=8)\n",
    "    with open(\"output/caveman.p\", \"wb\") as f:\n",
    "        pickle.dump((MSEs, FDRs, TDRs), f)\n",
    "else:\n",
    "    with open(\"output/caveman.p\", \"rb\") as f:\n",
    "        MSEs, FDRs, TDRs = pickle.load(f)"
   ]
  },
  {
   "cell_type": "code",
   "execution_count": null,
   "metadata": {},
   "outputs": [],
   "source": [
    "plt.figure()\n",
    "plt.plot(range(p), MSEs)\n",
    "plt.xlabel('$D^{\\\\top}$-sparsity')\n",
    "plt.ylabel('MSE')\n",
    "plt.legend([\"Graph-Lasso\", \"Graph-Slope\", \"Graph-Slope (MC)\"])\n",
    "\n",
    "plt.savefig(\"images/caveman-s02-c8-mse.pdf\")"
   ]
  },
  {
   "cell_type": "code",
   "execution_count": null,
   "metadata": {},
   "outputs": [],
   "source": [
    "plt.figure()\n",
    "plt.plot(range(1,p), FDRs[1:,:])\n",
    "plt.xlabel('$D^{\\\\top}$-sparsity')\n",
    "plt.ylabel('FDR')\n",
    "plt.legend([\"Graph-Lasso\", \"Graph-Slope\", \"Graph-Slope (MC)\"])\n",
    "\n",
    "plt.savefig(\"images/caveman-s02-c8-fdr.pdf\")"
   ]
  },
  {
   "cell_type": "code",
   "execution_count": null,
   "metadata": {},
   "outputs": [],
   "source": [
    "plt.figure()\n",
    "plt.plot(range(1,p), TDRs[1:,:])\n",
    "plt.ylim([0,1])\n",
    "plt.xlabel('$D^{\\\\top}$-sparsity')\n",
    "plt.ylabel('TDR')\n",
    "plt.legend([\"Graph-Lasso\", \"Graph-Slope\", \"Graph-Slope (MC)\"])\n",
    "\n",
    "plt.savefig(\"images/caveman-s02-c8-tdr.pdf\")"
   ]
  },
  {
   "cell_type": "markdown",
   "metadata": {},
   "source": [
    "## Synthetic experiments for TV-1D"
   ]
  },
  {
   "cell_type": "code",
   "execution_count": null,
   "metadata": {},
   "outputs": [],
   "source": [
    "n = 100\n",
    "\n",
    "G = nx.path_graph(n)\n",
    "D = nx.incidence_matrix(G, oriented=True)\n",
    "(n, p) = D.shape\n",
    "\n",
    "print((n,p))"
   ]
  },
  {
   "cell_type": "code",
   "execution_count": null,
   "metadata": {},
   "outputs": [],
   "source": [
    "sigma = 0.6\n",
    "weights_slope = sigma * rho(D) * np.sqrt(2 * np.log(p/np.arange(1,p+1)) * (n))\n",
    "weights_lasso = sigma * rho(D) * np.sqrt(2 * np.log(p) * (n)) * np.ones(p)\n",
    "\n",
    "from scipy.linalg import pinv2\n",
    "penrose_D = pinv2(D.T.todense())\n",
    "weights_slope_pen = np.percentile( -np.sort(-np.abs(penrose_D.T.dot(np.random.normal(size=(n,100000)))), axis=0 ), 99, axis=1)\n",
    "weights_slope_pen *= rho(D) * sigma * np.sqrt(2 * np.log(p) * (n)) / weights_slope_pen[0]"
   ]
  },
  {
   "cell_type": "code",
   "execution_count": null,
   "metadata": {},
   "outputs": [],
   "source": [
    "plt.plot(weights_lasso, label=\"Graph-Lasso\")\n",
    "plt.plot(weights_slope, label=\"Graph-Slope\")\n",
    "plt.plot(weights_slope_pen, label=\"Graph-Slope (MC)\")\n",
    "plt.legend()\n",
    "\n",
    "plt.savefig(\"images/tv1d-weight.pdf\")"
   ]
  },
  {
   "cell_type": "code",
   "execution_count": null,
   "metadata": {},
   "outputs": [],
   "source": [
    "glasso_reg = GraphSlope(incidence=D, lambdas=weights_lasso, max_iter=30000, tol=1e-5)\n",
    "gslope_reg = GraphSlope(incidence=D, lambdas=weights_slope, max_iter=30000, tol=1e-5)\n",
    "gslope_pen_reg = GraphSlope(incidence=D, lambdas=weights_slope_pen, max_iter=30000, tol=1e-5)\n",
    "estimators = [glasso_reg, gslope_reg, gslope_pen_reg]\n",
    "\n",
    "if recompute:\n",
    "    MSEs, FDRs, TDRs = run_xp(D, estimators, number_of_simulations=100, coeff=8.0)\n",
    "    with open(\"output/tv1d.p\", \"wb\") as f:\n",
    "        pickle.dump((MSEs, FDRs, TDRs), f)\n",
    "else:\n",
    "    with open(\"output/tv1d.p\", \"rb\") as f:\n",
    "        MSEs, FDRs, TDRs = pickle.load(f)"
   ]
  },
  {
   "cell_type": "code",
   "execution_count": null,
   "metadata": {},
   "outputs": [],
   "source": [
    "plt.figure()\n",
    "plt.plot(range(1,p), MSEs[1:,:])\n",
    "plt.xlabel('$D^{\\\\top}$-sparsity')\n",
    "plt.ylabel('MSE')\n",
    "plt.legend([\"Graph-Lasso\", \"Graph-Slope\", \"Graph-Slope (MC)\"])\n",
    "\n",
    "plt.savefig(\"images/tv1d-s1-c1-mse.pdf\")"
   ]
  },
  {
   "cell_type": "code",
   "execution_count": null,
   "metadata": {},
   "outputs": [],
   "source": [
    "plt.figure()\n",
    "plt.plot(range(1,p), FDRs[1:,:])\n",
    "plt.xlabel('$D^{\\\\top}$-sparsity')\n",
    "plt.ylabel('FDR')\n",
    "plt.legend([\"Graph-Lasso\", \"Graph-Slope\", \"Graph-Slope (MC)\"])\n",
    "\n",
    "plt.savefig(\"images/tv1d-s1-c1-fdr.pdf\")"
   ]
  },
  {
   "cell_type": "code",
   "execution_count": null,
   "metadata": {},
   "outputs": [],
   "source": [
    "plt.figure()\n",
    "plt.plot(range(1,p), TDRs[1:,:])\n",
    "plt.ylim([0,1])\n",
    "plt.xlabel('$D^{\\\\top}$-sparsity')\n",
    "plt.ylabel('TDR')\n",
    "plt.legend([\"Graph-Lasso\", \"Graph-Slope\", \"Graph-Slope (MC)\"])\n",
    "\n",
    "plt.savefig(\"images/tv1d-s1-c1-tdr.pdf\")"
   ]
  },
  {
   "cell_type": "code",
   "execution_count": null,
   "metadata": {},
   "outputs": [],
   "source": [
    "np.random.seed(44)\n",
    "xs = 8 * generate_random_sparse(D, 3)\n",
    "y = xs + 0.6 * np.random.randn(D.shape[0])\n",
    "\n",
    "glasso_reg = GraphSlope(incidence=D, lambdas=weights_lasso, max_iter=30000, tol=1e-5)\n",
    "gslope_reg = GraphSlope(incidence=D, lambdas=weights_slope, max_iter=30000, tol=1e-5)\n",
    "gslope_pen_reg = GraphSlope(incidence=D, lambdas=weights_slope_pen, max_iter=30000, tol=1e-5)\n",
    "\n",
    "glasso_reg.fit(y)\n",
    "gslope_reg.fit(y)\n",
    "gslope_pen_reg.fit(y)\n",
    "\n",
    "plt.plot(glasso_reg.coef_, label='Graph-Lasso')\n",
    "plt.plot(gslope_reg.coef_, label='Graph-Slope')\n",
    "plt.plot(gslope_pen_reg.coef_, label='Graph-Slope (MC)')\n",
    "\n",
    "plt.plot(xs, 'k', label='True signal')\n",
    "plt.plot(y, 'b.', label='Noisy signal')\n",
    "plt.legend()\n",
    "\n",
    "plt.savefig(\"images/tv1d-s1-c1-ex.pdf\")"
   ]
  },
  {
   "cell_type": "markdown",
   "metadata": {},
   "source": [
    "## Road network"
   ]
  },
  {
   "cell_type": "markdown",
   "metadata": {},
   "source": [
    "Get data from OpenSteetMap (thanks to osmnx): we restrict our attention to road where cars can drive (a bit smaller than the full map)."
   ]
  },
  {
   "cell_type": "code",
   "execution_count": null,
   "metadata": {},
   "outputs": [],
   "source": [
    "G = ox.graph_from_place('Paris, France', network_type='drive')\n",
    "ox.plot_graph(G)"
   ]
  },
  {
   "cell_type": "code",
   "execution_count": null,
   "metadata": {},
   "outputs": [],
   "source": [
    "# G is a MultiDiGraph, but we can use its incidence matrix as for any graph\n",
    "D = nx.incidence_matrix(G, oriented=True)\n",
    "(n,p) = D.shape\n",
    "print(\"Dimension (n,p) = \" + str((n,p)))"
   ]
  },
  {
   "cell_type": "code",
   "execution_count": null,
   "metadata": {},
   "outputs": [],
   "source": [
    "def infect(G, i0, steps):\n",
    "    x = np.zeros(n)\n",
    "    x[i0] = 1.\n",
    "    for s in range(steps):\n",
    "        for i, node in enumerate(G.nodes()):\n",
    "            if x[i] > 0:\n",
    "                for neigh in G.neighbors(node):\n",
    "                    if np.random.rand() > 0.25:\n",
    "                        j = list(G.nodes()).index(neigh)\n",
    "                        x[j] = 1.\n",
    "    return x\n",
    "\n",
    "np.random.seed(44)\n",
    "k = 30\n",
    "steps = 8\n",
    "seeds = np.random.permutation(n)[:k]\n",
    "x0 = infect(G, seeds, steps)\n",
    "\n",
    "sigma = 0.8\n",
    "y = x0 + sigma * np.random.randn(n)"
   ]
  },
  {
   "cell_type": "code",
   "execution_count": null,
   "metadata": {},
   "outputs": [],
   "source": [
    "import matplotlib\n",
    "\n",
    "def rescale_color(x, xmin, xmax, cmap='plasma'):\n",
    "    #x_scaled = (xmax - x + x.mean())/(xmax - xmin)\n",
    "    x_scaled = x\n",
    "    bins, values = np.histogram(x,bins=np.linspace(xmin,xmax,num=254))# np.histogram(x_scaled,bins=7)\n",
    "    cms = np.array(plt.get_cmap(cmap).colors)\n",
    "    colors = np.digitize(x_scaled, values)\n",
    "    colors = cms[colors,:]\n",
    "    \n",
    "    hexa = []\n",
    "    for i in range(x_scaled.shape[0]):\n",
    "        hexa.append(matplotlib.colors.rgb2hex(colors[i,:]))\n",
    "    return hexa"
   ]
  },
  {
   "cell_type": "code",
   "execution_count": null,
   "metadata": {},
   "outputs": [],
   "source": [
    "ox.plot_graph(G, node_size=20, node_color=rescale_color(x0, x0.min(), x0.max()), edge_alpha=0.4)"
   ]
  },
  {
   "cell_type": "code",
   "execution_count": null,
   "metadata": {},
   "outputs": [],
   "source": [
    "glasso_reg = GraphSlope(incidence=D, lambdas=weights_lasso, max_iter=5000, tol=1e-1)\n",
    "gslope_reg = GraphSlope(incidence=D, lambdas=weights_slope, max_iter=5000, tol=1e-1)\n",
    "ran = np.logspace(-5,1.5,num=30)\n",
    "\n",
    "best_fac_s_idx = -1\n",
    "best_fac_s_mse = np.Inf\n",
    "best_fac_l_idx = -1\n",
    "best_fac_l_mse = np.Inf\n",
    "\n",
    "for i, fac in enumerate(ran):\n",
    "    glasso_reg.lambdas = sigma * fac * np.sqrt(2 * np.log(p)) * np.ones(p)\n",
    "    glasso_reg.fit(y)\n",
    "    xstar_l = glasso_reg.coef_\n",
    "    if mean_squared_error(xstar_l,x0) < best_fac_l_mse:\n",
    "        best_fac_l_idx = i\n",
    "        best_fac_l_mse = mean_squared_error(xstar_l,x0)\n",
    "    \n",
    "    gslope_reg.lambdas = sigma * fac * np.sqrt(2 * np.log(p/np.arange(1,p+1)))\n",
    "    gslope_reg.fit(y)\n",
    "    xstar_s = gslope_reg.coef_\n",
    "    if mean_squared_error(xstar_s,x0) < best_fac_s_mse:\n",
    "        best_fac_s_idx = i\n",
    "        best_fac_s_mse = mean_squared_error(xstar_s,x0)\n",
    "        \n",
    "print(\"Best lasso idx: {}\".format(best_fac_l_idx))\n",
    "print(\"Best slope idx: {}\".format(best_fac_s_idx))"
   ]
  },
  {
   "cell_type": "code",
   "execution_count": null,
   "metadata": {},
   "outputs": [],
   "source": [
    "weights_slope = ran[best_fac_s_idx] * sigma * np.sqrt(2 * np.log(p/np.arange(1,p+1))) # weights using logs\n",
    "weights_lasso = ran[best_fac_l_idx] * sigma * np.sqrt(2 * np.log(p)) * np.ones(p)\n",
    "glasso_reg = GraphSlope(incidence=D, lambdas=weights_lasso, max_iter=100000, tol=1e-5)\n",
    "gslope_reg = GraphSlope(incidence=D, lambdas=weights_slope, max_iter=100000, tol=1e-5)"
   ]
  },
  {
   "cell_type": "code",
   "execution_count": null,
   "metadata": {},
   "outputs": [],
   "source": [
    "glasso_reg.fit(y)\n",
    "xstar_l = glasso_reg.coef_\n",
    "\n",
    "gslope_reg.fit(y)\n",
    "xstar_s = gslope_reg.coef_\n",
    "\n",
    "xmin = np.min([x0.min(), y.min(), xstar_l.min(), xstar_s.min()])\n",
    "xmax = np.max([x0.max(), y.max(), xstar_l.max(), xstar_s.max()])\n",
    "xmin = - np.max([np.abs(xmin),np.abs(xmax)])\n",
    "xmax = np.max([np.abs(xmin),np.abs(xmax)])"
   ]
  },
  {
   "cell_type": "code",
   "execution_count": null,
   "metadata": {},
   "outputs": [],
   "source": [
    "print(\"\\tGraph-Lasso\\t\\tGraph-Slope\")\n",
    "print(\"MSE\\t{0}\\t{1}\".format(mean_squared_error(xstar_l,x0), mean_squared_error(xstar_s,x0)))\n",
    "print(\"FDR\\t{0}\\t{1}\".format(FDR(D,xstar_l,x0), FDR(D,xstar_s,x0)))\n",
    "print(\"TDR\\t{0}\\t{1}\".format(TDR(D,xstar_l,x0), TDR(D,xstar_s,x0)))"
   ]
  },
  {
   "cell_type": "code",
   "execution_count": null,
   "metadata": {},
   "outputs": [],
   "source": [
    "xmin = np.min(list(map(lambda x: np.percentile(x,5),[x0,y,xstar_l,xstar_s])))\n",
    "xmax = np.max(list(map(lambda x: np.percentile(x,95),[x0,y,xstar_l,xstar_s])))"
   ]
  },
  {
   "cell_type": "code",
   "execution_count": null,
   "metadata": {},
   "outputs": [],
   "source": [
    "ox.plot_graph(G, node_size=20, node_color=rescale_color(x0, xmin, xmax), edge_alpha=0.4, save=True, close=True, show=True, file_format='pdf', filename='paris-x0')\n",
    "ox.plot_graph(G, node_size=20, node_color=rescale_color(y, xmin, xmax), edge_alpha=0.4, save=True, close=True, show=True, file_format='pdf', filename='paris-y')\n",
    "ox.plot_graph(G, node_size=20, node_color=rescale_color(xstar_l, xmin, xmax), edge_alpha=0.4, save=True, close=True, show=True, file_format='pdf', filename='paris-lasso')\n",
    "ox.plot_graph(G, node_size=20, node_color=rescale_color(xstar_s, xmin, xmax), edge_alpha=0.4, save=True, close=True, show=True, file_format='pdf', filename='paris-slope')"
   ]
  },
  {
   "cell_type": "code",
   "execution_count": null,
   "metadata": {},
   "outputs": [],
   "source": [
    "def cosp(D, x, tol=1e-6):\n",
    "    return np.sum(np.abs(D.T.dot(x)) > tol)\n",
    "cosp(D, x0), cosp(D, y), cosp(D, xstar_l), cosp(D, xstar_s)"
   ]
  },
  {
   "cell_type": "code",
   "execution_count": null,
   "metadata": {},
   "outputs": [],
   "source": [
    "plt.imshow([xstar_s,x0], cmap='plasma')\n",
    "plt.colorbar(orientation='horizontal')\n",
    "plt.savefig(\"images/paris-colormap.pdf\")"
   ]
  }
 ],
 "metadata": {
  "anaconda-cloud": {},
  "kernelspec": {
   "display_name": "Python [conda env:ox]",
   "language": "python",
   "name": "conda-env-ox-py"
  },
  "language_info": {
   "codemirror_mode": {
    "name": "ipython",
    "version": 3
   },
   "file_extension": ".py",
   "mimetype": "text/x-python",
   "name": "python",
   "nbconvert_exporter": "python",
   "pygments_lexer": "ipython3",
   "version": "3.7.3"
  }
 },
 "nbformat": 4,
 "nbformat_minor": 1
}
